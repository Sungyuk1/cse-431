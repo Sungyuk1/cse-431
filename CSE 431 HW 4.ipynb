{
 "cells": [
  {
   "cell_type": "markdown",
   "metadata": {},
   "source": [
    "Hypothesis: Briefly describe what results you believe you will find.  Write your hypothesis before you start conducting experiments as a way of acknowledging your initial expectations.  Note: you will not lose points for your hypothesis being incorrect; in fact, getting a result different from your hypothesis will often be more exciting and more of a learning experience.\n",
    "\n",
    "Methods: Describe step-by-step the experiments that you conduct. Provide the source code that you use, and details about which compiler you use, how you compile it (e.g., optimization flags), and the range of inputs that you feed into your program.  You may provide a link to a repository rather than copying the code into your file.  Your methods should accurately reflect how you actually generated your data such that, someone reading them can replicate your experiment.\n",
    "\n",
    "Results: Present the data that your experiments produced .  In most cases this will be a graph (as described in each question) and a brief explanation to make sure the reader understands the data in that graph. Graphs should be clearly labeled (axis labels, etc)!\n",
    "\n",
    "Discussion: Provide a brief discussion of your data.  Did anything about it surprise you?  Were there any unexpected challenges in collecting the data?  This section is where you will answer specific questions posed in each of these problems.\n",
    "\n",
    "Conclusions: Present a concise take-away for this experiment.  For example, “Under the conditions tested, data structure A produces a faster algorithm for n < 1000, while data structure B is faster for n > 1500.  For n between 1000 and 1500 the two data structures are indistinguishable.”\n"
   ]
  },
  {
   "cell_type": "markdown",
   "metadata": {},
   "source": [
    "**Q1) Merge sort vs. Insertion sort**"
   ]
  },
  {
   "cell_type": "code",
   "execution_count": 60,
   "metadata": {},
   "outputs": [],
   "source": [
    "import matplotlib.pyplot as plt\n",
    "%matplotlib inline\n",
    "import numpy as np\n",
    "import timeit"
   ]
  },
  {
   "cell_type": "code",
   "execution_count": 61,
   "metadata": {},
   "outputs": [],
   "source": [
    "#Implementation from Geeks For Geeks : https://www.geeksforgeeks.org/insertion-sort/\n",
    "def insertionSort(arr):\n",
    " \n",
    "    # Traverse through 1 to len(arr)\n",
    "    for i in range(1, len(arr)):\n",
    " \n",
    "        key = arr[i]\n",
    " \n",
    "        # Move elements of arr[0..i-1], that are\n",
    "        # greater than key, to one position ahead\n",
    "        # of their current position\n",
    "        j = i-1\n",
    "        while j >= 0 and key < arr[j] :\n",
    "                arr[j + 1] = arr[j]\n",
    "                j -= 1\n",
    "        arr[j + 1] = key"
   ]
  },
  {
   "cell_type": "code",
   "execution_count": 62,
   "metadata": {},
   "outputs": [],
   "source": [
    "#Merge Sort implementation from Geeks for Geeks : https://www.geeksforgeeks.org/merge-sort/\n",
    "def mergeSort(arr):\n",
    "    if len(arr) > 1:\n",
    " \n",
    "         # Finding the mid of the array\n",
    "        mid = len(arr)//2\n",
    " \n",
    "        # Dividing the array elements\n",
    "        L = arr[:mid]\n",
    " \n",
    "        # into 2 halves\n",
    "        R = arr[mid:]\n",
    " \n",
    "        # Sorting the first half\n",
    "        mergeSort(L)\n",
    " \n",
    "        # Sorting the second half\n",
    "        mergeSort(R)\n",
    " \n",
    "        i = j = k = 0\n",
    " \n",
    "        # Copy data to temp arrays L[] and R[]\n",
    "        while i < len(L) and j < len(R):\n",
    "            if L[i] <= R[j]:\n",
    "                arr[k] = L[i]\n",
    "                i += 1\n",
    "            else:\n",
    "                arr[k] = R[j]\n",
    "                j += 1\n",
    "            k += 1\n",
    " \n",
    "        # Checking if any element was left\n",
    "        while i < len(L):\n",
    "            arr[k] = L[i]\n",
    "            i += 1\n",
    "            k += 1\n",
    " \n",
    "        while j < len(R):\n",
    "            arr[k] = R[j]\n",
    "            j += 1\n",
    "            k += 1\n",
    " \n",
    "# Code to print the list\n",
    " \n",
    " \n",
    "def printList(arr):\n",
    "    for i in range(len(arr)):\n",
    "        print(arr[i], end=\" \")\n",
    "    print()"
   ]
  },
  {
   "cell_type": "code",
   "execution_count": 68,
   "metadata": {},
   "outputs": [],
   "source": [
    "times = [10, 15, 20, 30, 50, 100, 200, 500, 1000, 2000, 5000, 10000]"
   ]
  },
  {
   "cell_type": "code",
   "execution_count": 64,
   "metadata": {},
   "outputs": [
    {
     "data": {
      "text/plain": [
       "\"def compute_insertion_sort(times):\\n    output_times = []\\n    for i in times:\\n        n = i\\n        res = np.random.randint(0,10000, n)\\n        timeit.timeit('insertionSort(res)', 'from __main__ import insertionSort, res', number=100)\""
      ]
     },
     "execution_count": 64,
     "metadata": {},
     "output_type": "execute_result"
    }
   ],
   "source": [
    "\"\"\"def compute_insertion_sort(times):\n",
    "    output_times = []\n",
    "    for i in times:\n",
    "        n = i\n",
    "        res = np.random.randint(0,10000, n)\n",
    "        timeit.timeit('insertionSort(res)', 'from __main__ import insertionSort, res', number=100)\"\"\""
   ]
  },
  {
   "cell_type": "code",
   "execution_count": 65,
   "metadata": {},
   "outputs": [
    {
     "name": "stdout",
     "output_type": "stream",
     "text": [
      "[0.0008628000005046488, 0.0013315999995029415, 0.0019435000003795722, 0.002462599999489612, 0.002610800000184099, 0.006849999999758438, 0.019329799999468378, 0.049062200000662415, 0.14893940000001749, 0.48074540000015986, 2.986024400000133, 12.051335299999664]\n"
     ]
    }
   ],
   "source": [
    "#INSERTION SORT\n",
    "list1 = np.random.randint(0,10000, 10)\n",
    "list2 = np.random.randint(0,10000, 15)\n",
    "list3 = np.random.randint(0,10000, 20)\n",
    "list4 = np.random.randint(0,10000, 30)\n",
    "list5 = np.random.randint(0,10000, 50)\n",
    "list6 = np.random.randint(0,10000, 100)\n",
    "list7 = np.random.randint(0,10000, 200)\n",
    "list8 = np.random.randint(0,10000, 500)\n",
    "list9 = np.random.randint(0,10000, 1000)\n",
    "list10 = np.random.randint(0,10000, 2000)\n",
    "list11 = np.random.randint(0,10000, 5000)\n",
    "list12 = np.random.randint(0,10000, 10000)\n",
    "\n",
    "output_times_insertion = []\n",
    "output_times_insertion.append(timeit.timeit('insertionSort(list1)', 'from __main__ import insertionSort, list1', number=100))\n",
    "output_times_insertion.append(timeit.timeit('insertionSort(list2)', 'from __main__ import insertionSort, list2', number=100))\n",
    "output_times_insertion.append(timeit.timeit('insertionSort(list3)', 'from __main__ import insertionSort, list3', number=100))\n",
    "output_times_insertion.append(timeit.timeit('insertionSort(list4)', 'from __main__ import insertionSort, list4', number=100))\n",
    "output_times_insertion.append(timeit.timeit('insertionSort(list5)', 'from __main__ import insertionSort, list5', number=100))\n",
    "output_times_insertion.append(timeit.timeit('insertionSort(list6)', 'from __main__ import insertionSort, list6', number=100))\n",
    "output_times_insertion.append(timeit.timeit('insertionSort(list7)', 'from __main__ import insertionSort, list7', number=100))\n",
    "output_times_insertion.append(timeit.timeit('insertionSort(list8)', 'from __main__ import insertionSort, list8', number=100))\n",
    "output_times_insertion.append(timeit.timeit('insertionSort(list9)', 'from __main__ import insertionSort, list9', number=100))\n",
    "output_times_insertion.append(timeit.timeit('insertionSort(list10)', 'from __main__ import insertionSort, list10', number=100))\n",
    "output_times_insertion.append(timeit.timeit('insertionSort(list11)', 'from __main__ import insertionSort, list11', number=100))\n",
    "output_times_insertion.append(timeit.timeit('insertionSort(list12)', 'from __main__ import insertionSort, list12', number=100))\n",
    "\n",
    "print(output_times_insertion)"
   ]
  },
  {
   "cell_type": "code",
   "execution_count": 66,
   "metadata": {},
   "outputs": [
    {
     "name": "stdout",
     "output_type": "stream",
     "text": [
      "[0.004266699999789125, 0.006193499999426422, 0.008808499999759078, 0.008867300000019895, 0.018006100000093284, 0.03647309999996651, 0.08255540000027395, 0.25190549999933864, 0.5975913000002038, 1.2621589999998832, 3.565043699999478, 7.777481400000397]\n"
     ]
    }
   ],
   "source": [
    "#MERGE SORT\n",
    "list1 = np.random.randint(0,10000, 10)\n",
    "list2 = np.random.randint(0,10000, 15)\n",
    "list3 = np.random.randint(0,10000, 20)\n",
    "list4 = np.random.randint(0,10000, 30)\n",
    "list5 = np.random.randint(0,10000, 50)\n",
    "list6 = np.random.randint(0,10000, 100)\n",
    "list7 = np.random.randint(0,10000, 200)\n",
    "list8 = np.random.randint(0,10000, 500)\n",
    "list9 = np.random.randint(0,10000, 1000)\n",
    "list10 = np.random.randint(0,10000, 2000)\n",
    "list11 = np.random.randint(0,10000, 5000)\n",
    "list12 = np.random.randint(0,10000, 10000)\n",
    "\n",
    "output_times_merge = []\n",
    "output_times_merge.append(timeit.timeit('mergeSort(list1)', 'from __main__ import mergeSort, list1', number=100))\n",
    "output_times_merge.append(timeit.timeit('mergeSort(list2)', 'from __main__ import mergeSort, list2', number=100))\n",
    "output_times_merge.append(timeit.timeit('mergeSort(list3)', 'from __main__ import mergeSort, list3', number=100))\n",
    "output_times_merge.append(timeit.timeit('mergeSort(list4)', 'from __main__ import mergeSort, list4', number=100))\n",
    "output_times_merge.append(timeit.timeit('mergeSort(list5)', 'from __main__ import mergeSort, list5', number=100))\n",
    "output_times_merge.append(timeit.timeit('mergeSort(list6)', 'from __main__ import mergeSort, list6', number=100))\n",
    "output_times_merge.append(timeit.timeit('mergeSort(list7)', 'from __main__ import mergeSort, list7', number=100))\n",
    "output_times_merge.append(timeit.timeit('mergeSort(list8)', 'from __main__ import mergeSort, list8', number=100))\n",
    "output_times_merge.append(timeit.timeit('mergeSort(list9)', 'from __main__ import mergeSort, list9', number=100))\n",
    "output_times_merge.append(timeit.timeit('mergeSort(list10)', 'from __main__ import mergeSort, list10', number=100))\n",
    "output_times_merge.append(timeit.timeit('mergeSort(list11)', 'from __main__ import mergeSort, list11', number=100))\n",
    "output_times_merge.append(timeit.timeit('mergeSort(list12)', 'from __main__ import mergeSort, list12', number=100))\n",
    "\n",
    "print(output_times_merge)"
   ]
  },
  {
   "cell_type": "code",
   "execution_count": 72,
   "metadata": {},
   "outputs": [
    {
     "data": {
      "image/png": "[encoded data removed]",
      "text/plain": [
       "<Figure size 432x288 with 1 Axes>"
      ]
     },
     "metadata": {
      "needs_background": "light"
     },
     "output_type": "display_data"
    }
   ],
   "source": [
    "plt.plot(times, output_times_insertion, 'y', label = 'Insertion Sort')\n",
    "plt.plot(times, output_times_merge, 'r', label = 'Merge Sort')\n",
    "plt.title(\"N vs Execution Time\")\n",
    "plt.xlabel(\"N\")\n",
    "plt.ylabel(\"Execution Time\")\n",
    "plt.legend()\n",
    "plt.grid()"
   ]
  },
  {
   "cell_type": "markdown",
   "metadata": {},
   "source": [
    "**Q2) Hybrid sorting**"
   ]
  },
  {
   "cell_type": "code",
   "execution_count": 85,
   "metadata": {},
   "outputs": [],
   "source": [
    "#This is the Geeks for Geeks Implementation of Tim Sort\n",
    "MIN_MERGE = 32\n",
    "\n",
    "def calcMinRun(n):\n",
    "    \"\"\"Returns the minimum length of a\n",
    "    run from 23 - 64 so that\n",
    "    the len(array)/minrun is less than or\n",
    "    equal to a power of 2.\n",
    " \n",
    "    e.g. 1=>1, ..., 63=>63, 64=>32, 65=>33,\n",
    "    ..., 127=>64, 128=>32, ...\n",
    "    \"\"\"\n",
    "    r = 0\n",
    "    while n >= MIN_MERGE:\n",
    "        r |= n & 1\n",
    "        n >>= 1\n",
    "    return n + r\n",
    "\n",
    "def timSort(arr):\n",
    "    n = len(arr)\n",
    "    minRun = calcMinRun(n)\n",
    " \n",
    "    # Sort individual subarrays of size RUN\n",
    "    for start in range(0, n, minRun):\n",
    "        end = min(start + minRun - 1, n - 1)\n",
    "        insertionSort(arr, start, end)\n",
    " \n",
    "    # Start merging from size RUN (or 32). It will merge\n",
    "    # to form size 64, then 128, 256 and so on ....\n",
    "    size = minRun\n",
    "    while size < n:\n",
    " \n",
    "        # Pick starting point of left sub array. We\n",
    "        # are going to merge arr[left..left+size-1]\n",
    "        # and arr[left+size, left+2*size-1]\n",
    "        # After every merge, we increase left by 2*size\n",
    "        for left in range(0, n, 2 * size):\n",
    " \n",
    "            # Find ending point of left sub array\n",
    "            # mid+1 is starting point of right sub array\n",
    "            mid = min(n - 1, left + size - 1)\n",
    "            right = min((left + 2 * size - 1), (n - 1))\n",
    " \n",
    "            # Merge sub array arr[left.....mid] &\n",
    "            # arr[mid+1....right]\n",
    "            if mid < right:\n",
    "                merge(arr, left, mid, right)\n",
    " \n",
    "        size = 2 * size\n",
    " "
   ]
  },
  {
   "cell_type": "code",
   "execution_count": 99,
   "metadata": {},
   "outputs": [],
   "source": [
    "#My implementation of Tim sort for k=5000\n",
    "def Tim_Sort_5000(arr):\n",
    "    if len(arr) > 5000:\n",
    " \n",
    "         # Finding the mid of the array\n",
    "        mid = len(arr)//2\n",
    " \n",
    "        # Dividing the array elements\n",
    "        L = arr[:mid]\n",
    " \n",
    "        # into 2 halves\n",
    "        R = arr[mid:]\n",
    " \n",
    "        # Sorting the first half\n",
    "        Tim_Sort_5000(L)\n",
    " \n",
    "        # Sorting the second half\n",
    "        Tim_Sort_5000(R)\n",
    " \n",
    "        i = j = k = 0\n",
    " \n",
    "        # Copy data to temp arrays L[] and R[]\n",
    "        while i < len(L) and j < len(R):\n",
    "            if L[i] <= R[j]:\n",
    "                arr[k] = L[i]\n",
    "                i += 1\n",
    "            else:\n",
    "                arr[k] = R[j]\n",
    "                j += 1\n",
    "            k += 1\n",
    " \n",
    "        # Checking if any element was left\n",
    "        while i < len(L):\n",
    "            arr[k] = L[i]\n",
    "            i += 1\n",
    "            k += 1\n",
    " \n",
    "        while j < len(R):\n",
    "            arr[k] = R[j]\n",
    "            j += 1\n",
    "            k += 1\n",
    "    else:\n",
    "        insertionSort(arr)"
   ]
  },
  {
   "cell_type": "code",
   "execution_count": 92,
   "metadata": {
    "scrolled": true
   },
   "outputs": [
    {
     "name": "stdout",
     "output_type": "stream",
     "text": [
      "[0.0006859000004624249, 0.0006696999998894171, 0.0008980000002338784, 0.0013588000001618639, 0.0026207000000795233, 0.0052291000001787324, 0.025027399999999034, 0.06342469999981404, 0.14847019999979238, 0.5011631000006673, 3.117735100000573, 6.601426400000491]\n"
     ]
    }
   ],
   "source": [
    "#TIM SORT 5000\n",
    "list1 = np.random.randint(0,10000, 10)\n",
    "list2 = np.random.randint(0,10000, 15)\n",
    "list3 = np.random.randint(0,10000, 20)\n",
    "list4 = np.random.randint(0,10000, 30)\n",
    "list5 = np.random.randint(0,10000, 50)\n",
    "list6 = np.random.randint(0,10000, 100)\n",
    "list7 = np.random.randint(0,10000, 200)\n",
    "list8 = np.random.randint(0,10000, 500)\n",
    "list9 = np.random.randint(0,10000, 1000)\n",
    "list10 = np.random.randint(0,10000, 2000)\n",
    "list11 = np.random.randint(0,10000, 5000)\n",
    "list12 = np.random.randint(0,10000, 10000)\n",
    "\n",
    "output_times_Tim_5000 = []\n",
    "output_times_Tim_5000.append(timeit.timeit('Tim_Sort_5000(list1)', 'from __main__ import Tim_Sort_5000, list1', number=100))\n",
    "output_times_Tim_5000.append(timeit.timeit('Tim_Sort_5000(list2)', 'from __main__ import Tim_Sort_5000, list2', number=100))\n",
    "output_times_Tim_5000.append(timeit.timeit('Tim_Sort_5000(list3)', 'from __main__ import Tim_Sort_5000, list3', number=100))\n",
    "output_times_Tim_5000.append(timeit.timeit('Tim_Sort_5000(list4)', 'from __main__ import Tim_Sort_5000, list4', number=100))\n",
    "output_times_Tim_5000.append(timeit.timeit('Tim_Sort_5000(list5)', 'from __main__ import Tim_Sort_5000, list5', number=100))\n",
    "output_times_Tim_5000.append(timeit.timeit('Tim_Sort_5000(list6)', 'from __main__ import Tim_Sort_5000, list6', number=100))\n",
    "output_times_Tim_5000.append(timeit.timeit('Tim_Sort_5000(list7)', 'from __main__ import Tim_Sort_5000, list7', number=100))\n",
    "output_times_Tim_5000.append(timeit.timeit('Tim_Sort_5000(list8)', 'from __main__ import Tim_Sort_5000, list8', number=100))\n",
    "output_times_Tim_5000.append(timeit.timeit('Tim_Sort_5000(list9)', 'from __main__ import Tim_Sort_5000, list9', number=100))\n",
    "output_times_Tim_5000.append(timeit.timeit('Tim_Sort_5000(list10)', 'from __main__ import Tim_Sort_5000, list10', number=100))\n",
    "output_times_Tim_5000.append(timeit.timeit('Tim_Sort_5000(list11)', 'from __main__ import Tim_Sort_5000, list11', number=100))\n",
    "output_times_Tim_5000.append(timeit.timeit('Tim_Sort_5000(list12)', 'from __main__ import Tim_Sort_5000, list12', number=100))\n",
    "\n",
    "print(output_times_Tim_5000)"
   ]
  },
  {
   "cell_type": "code",
   "execution_count": 95,
   "metadata": {},
   "outputs": [],
   "source": [
    "#My implementation of Tim sort for k=5500\n",
    "def Tim_Sort_5500(arr):\n",
    "    if len(arr) > 5500:\n",
    " \n",
    "         # Finding the mid of the array\n",
    "        mid = len(arr)//2\n",
    " \n",
    "        # Dividing the array elements\n",
    "        L = arr[:mid]\n",
    " \n",
    "        # into 2 halves\n",
    "        R = arr[mid:]\n",
    " \n",
    "        # Sorting the first half\n",
    "        timSort_5500(L)\n",
    " \n",
    "        # Sorting the second half\n",
    "        timSort_5500(R)\n",
    " \n",
    "        i = j = k = 0\n",
    " \n",
    "        # Copy data to temp arrays L[] and R[]\n",
    "        while i < len(L) and j < len(R):\n",
    "            if L[i] <= R[j]:\n",
    "                arr[k] = L[i]\n",
    "                i += 1\n",
    "            else:\n",
    "                arr[k] = R[j]\n",
    "                j += 1\n",
    "            k += 1\n",
    " \n",
    "        # Checking if any element was left\n",
    "        while i < len(L):\n",
    "            arr[k] = L[i]\n",
    "            i += 1\n",
    "            k += 1\n",
    " \n",
    "        while j < len(R):\n",
    "            arr[k] = R[j]\n",
    "            j += 1\n",
    "            k += 1\n",
    "    else:\n",
    "        insertionSort(arr)"
   ]
  },
  {
   "cell_type": "code",
   "execution_count": 96,
   "metadata": {},
   "outputs": [
    {
     "name": "stdout",
     "output_type": "stream",
     "text": [
      "[0.0008875000003172318, 0.0013773000000583124, 0.0013176000002204091, 0.0024296999999933178, 0.006093900000450958, 0.008481299999402836, 0.012256400000296708, 0.04611620000014227, 0.14917220000006637, 0.49711519999982556, 3.044721200000822, 6.543953399999737]\n"
     ]
    }
   ],
   "source": [
    "#TIM SORT 5500\n",
    "list1 = np.random.randint(0,10000, 10)\n",
    "list2 = np.random.randint(0,10000, 15)\n",
    "list3 = np.random.randint(0,10000, 20)\n",
    "list4 = np.random.randint(0,10000, 30)\n",
    "list5 = np.random.randint(0,10000, 50)\n",
    "list6 = np.random.randint(0,10000, 100)\n",
    "list7 = np.random.randint(0,10000, 200)\n",
    "list8 = np.random.randint(0,10000, 500)\n",
    "list9 = np.random.randint(0,10000, 1000)\n",
    "list10 = np.random.randint(0,10000, 2000)\n",
    "list11 = np.random.randint(0,10000, 5000)\n",
    "list12 = np.random.randint(0,10000, 10000)\n",
    "\n",
    "output_times_Tim_5500 = []\n",
    "output_times_Tim_5500.append(timeit.timeit('Tim_Sort_5500(list1)', 'from __main__ import Tim_Sort_5500, list1', number=100))\n",
    "output_times_Tim_5500.append(timeit.timeit('Tim_Sort_5500(list2)', 'from __main__ import Tim_Sort_5500, list2', number=100))\n",
    "output_times_Tim_5500.append(timeit.timeit('Tim_Sort_5500(list3)', 'from __main__ import Tim_Sort_5500, list3', number=100))\n",
    "output_times_Tim_5500.append(timeit.timeit('Tim_Sort_5500(list4)', 'from __main__ import Tim_Sort_5500, list4', number=100))\n",
    "output_times_Tim_5500.append(timeit.timeit('Tim_Sort_5500(list5)', 'from __main__ import Tim_Sort_5500, list5', number=100))\n",
    "output_times_Tim_5500.append(timeit.timeit('Tim_Sort_5500(list6)', 'from __main__ import Tim_Sort_5500, list6', number=100))\n",
    "output_times_Tim_5500.append(timeit.timeit('Tim_Sort_5500(list7)', 'from __main__ import Tim_Sort_5500, list7', number=100))\n",
    "output_times_Tim_5500.append(timeit.timeit('Tim_Sort_5500(list8)', 'from __main__ import Tim_Sort_5500, list8', number=100))\n",
    "output_times_Tim_5500.append(timeit.timeit('Tim_Sort_5500(list9)', 'from __main__ import Tim_Sort_5500, list9', number=100))\n",
    "output_times_Tim_5500.append(timeit.timeit('Tim_Sort_5500(list10)', 'from __main__ import Tim_Sort_5500, list10', number=100))\n",
    "output_times_Tim_5500.append(timeit.timeit('Tim_Sort_5500(list11)', 'from __main__ import Tim_Sort_5500, list11', number=100))\n",
    "output_times_Tim_5500.append(timeit.timeit('Tim_Sort_5500(list12)', 'from __main__ import Tim_Sort_5500, list12', number=100))\n",
    "\n",
    "print(output_times_Tim_5500)"
   ]
  },
  {
   "cell_type": "code",
   "execution_count": 98,
   "metadata": {
    "scrolled": true
   },
   "outputs": [
    {
     "data": {
      "image/png": "[encoded data removed]",
      "text/plain": [
       "<Figure size 432x288 with 1 Axes>"
      ]
     },
     "metadata": {
      "needs_background": "light"
     },
     "output_type": "display_data"
    }
   ],
   "source": [
    "plt.plot(times, output_times_insertion, 'y', label = 'Insertion Sort')\n",
    "plt.plot(times, output_times_merge, 'r', label = 'Merge Sort')\n",
    "plt.plot(times, output_times_Tim_5000, 'g', label = 'Tim Sort (5000)')\n",
    "#plt.plot(times, output_times_Tim_5000, 'b', label = 'Tim Sort (5500)')\n",
    "plt.title(\"N vs Execution Time\")\n",
    "plt.xlabel(\"N\")\n",
    "plt.ylabel(\"Execution Time\")\n",
    "plt.legend()\n",
    "plt.grid()"
   ]
  },
  {
   "cell_type": "code",
   "execution_count": 101,
   "metadata": {},
   "outputs": [],
   "source": [
    "#My implementation of Tim sort for k=5500\n",
    "def Tim_Sort_4000(arr):\n",
    "    if len(arr) > 4000:\n",
    " \n",
    "         # Finding the mid of the array\n",
    "        mid = len(arr)//2\n",
    " \n",
    "        # Dividing the array elements\n",
    "        L = arr[:mid]\n",
    " \n",
    "        # into 2 halves\n",
    "        R = arr[mid:]\n",
    " \n",
    "        # Sorting the first half\n",
    "        Tim_Sort_4000(L)\n",
    " \n",
    "        # Sorting the second half\n",
    "        Tim_Sort_4000(R)\n",
    " \n",
    "        i = j = k = 0\n",
    " \n",
    "        # Copy data to temp arrays L[] and R[]\n",
    "        while i < len(L) and j < len(R):\n",
    "            if L[i] <= R[j]:\n",
    "                arr[k] = L[i]\n",
    "                i += 1\n",
    "            else:\n",
    "                arr[k] = R[j]\n",
    "                j += 1\n",
    "            k += 1\n",
    " \n",
    "        # Checking if any element was left\n",
    "        while i < len(L):\n",
    "            arr[k] = L[i]\n",
    "            i += 1\n",
    "            k += 1\n",
    " \n",
    "        while j < len(R):\n",
    "            arr[k] = R[j]\n",
    "            j += 1\n",
    "            k += 1\n",
    "    else:\n",
    "        insertionSort(arr)"
   ]
  },
  {
   "cell_type": "code",
   "execution_count": 102,
   "metadata": {},
   "outputs": [
    {
     "name": "stdout",
     "output_type": "stream",
     "text": [
      "[0.0008330999999088817, 0.0010356000002502697, 0.0011776000001191278, 0.0013576999999713735, 0.0021087999994051643, 0.0046832000007270835, 0.013191400000323483, 0.061912199999824225, 0.14551899999969464, 0.5496528000003309, 2.1737585999999283, 4.629583699999785]\n"
     ]
    }
   ],
   "source": [
    "#TIM SORT 4000\n",
    "list1 = np.random.randint(0,10000, 10)\n",
    "list2 = np.random.randint(0,10000, 15)\n",
    "list3 = np.random.randint(0,10000, 20)\n",
    "list4 = np.random.randint(0,10000, 30)\n",
    "list5 = np.random.randint(0,10000, 50)\n",
    "list6 = np.random.randint(0,10000, 100)\n",
    "list7 = np.random.randint(0,10000, 200)\n",
    "list8 = np.random.randint(0,10000, 500)\n",
    "list9 = np.random.randint(0,10000, 1000)\n",
    "list10 = np.random.randint(0,10000, 2000)\n",
    "list11 = np.random.randint(0,10000, 5000)\n",
    "list12 = np.random.randint(0,10000, 10000)\n",
    "\n",
    "output_times_Tim_4000 = []\n",
    "output_times_Tim_4000.append(timeit.timeit('Tim_Sort_4000(list1)', 'from __main__ import Tim_Sort_4000, list1', number=100))\n",
    "output_times_Tim_4000.append(timeit.timeit('Tim_Sort_4000(list2)', 'from __main__ import Tim_Sort_4000, list2', number=100))\n",
    "output_times_Tim_4000.append(timeit.timeit('Tim_Sort_4000(list3)', 'from __main__ import Tim_Sort_4000, list3', number=100))\n",
    "output_times_Tim_4000.append(timeit.timeit('Tim_Sort_4000(list4)', 'from __main__ import Tim_Sort_4000, list4', number=100))\n",
    "output_times_Tim_4000.append(timeit.timeit('Tim_Sort_4000(list5)', 'from __main__ import Tim_Sort_4000, list5', number=100))\n",
    "output_times_Tim_4000.append(timeit.timeit('Tim_Sort_4000(list6)', 'from __main__ import Tim_Sort_4000, list6', number=100))\n",
    "output_times_Tim_4000.append(timeit.timeit('Tim_Sort_4000(list7)', 'from __main__ import Tim_Sort_4000, list7', number=100))\n",
    "output_times_Tim_4000.append(timeit.timeit('Tim_Sort_4000(list8)', 'from __main__ import Tim_Sort_4000, list8', number=100))\n",
    "output_times_Tim_4000.append(timeit.timeit('Tim_Sort_4000(list9)', 'from __main__ import Tim_Sort_4000, list9', number=100))\n",
    "output_times_Tim_4000.append(timeit.timeit('Tim_Sort_4000(list10)', 'from __main__ import Tim_Sort_4000, list10', number=100))\n",
    "output_times_Tim_4000.append(timeit.timeit('Tim_Sort_4000(list11)', 'from __main__ import Tim_Sort_4000, list11', number=100))\n",
    "output_times_Tim_4000.append(timeit.timeit('Tim_Sort_4000(list12)', 'from __main__ import Tim_Sort_4000, list12', number=100))\n",
    "\n",
    "print(output_times_Tim_4000)"
   ]
  },
  {
   "cell_type": "code",
   "execution_count": 103,
   "metadata": {},
   "outputs": [],
   "source": [
    "#My implementation of Tim sort for k=5500\n",
    "def Tim_Sort_6000(arr):\n",
    "    if len(arr) > 6000:\n",
    " \n",
    "         # Finding the mid of the array\n",
    "        mid = len(arr)//2\n",
    " \n",
    "        # Dividing the array elements\n",
    "        L = arr[:mid]\n",
    " \n",
    "        # into 2 halves\n",
    "        R = arr[mid:]\n",
    " \n",
    "        # Sorting the first half\n",
    "        Tim_Sort_6000(L)\n",
    " \n",
    "        # Sorting the second half\n",
    "        Tim_Sort_6000(R)\n",
    " \n",
    "        i = j = k = 0\n",
    " \n",
    "        # Copy data to temp arrays L[] and R[]\n",
    "        while i < len(L) and j < len(R):\n",
    "            if L[i] <= R[j]:\n",
    "                arr[k] = L[i]\n",
    "                i += 1\n",
    "            else:\n",
    "                arr[k] = R[j]\n",
    "                j += 1\n",
    "            k += 1\n",
    " \n",
    "        # Checking if any element was left\n",
    "        while i < len(L):\n",
    "            arr[k] = L[i]\n",
    "            i += 1\n",
    "            k += 1\n",
    " \n",
    "        while j < len(R):\n",
    "            arr[k] = R[j]\n",
    "            j += 1\n",
    "            k += 1\n",
    "    else:\n",
    "        insertionSort(arr)"
   ]
  },
  {
   "cell_type": "code",
   "execution_count": 104,
   "metadata": {},
   "outputs": [
    {
     "name": "stdout",
     "output_type": "stream",
     "text": [
      "[0.0007385000008071074, 0.000987899999927322, 0.0017263999998249346, 0.0025959999993574456, 0.0035976000008304254, 0.010590000000775035, 0.016206299999794282, 0.0488788000002387, 0.15465100000074017, 0.5235026000000289, 3.1696202000002813, 6.821522599999298]\n"
     ]
    }
   ],
   "source": [
    "#TIM SORT 6000\n",
    "list1 = np.random.randint(0,10000, 10)\n",
    "list2 = np.random.randint(0,10000, 15)\n",
    "list3 = np.random.randint(0,10000, 20)\n",
    "list4 = np.random.randint(0,10000, 30)\n",
    "list5 = np.random.randint(0,10000, 50)\n",
    "list6 = np.random.randint(0,10000, 100)\n",
    "list7 = np.random.randint(0,10000, 200)\n",
    "list8 = np.random.randint(0,10000, 500)\n",
    "list9 = np.random.randint(0,10000, 1000)\n",
    "list10 = np.random.randint(0,10000, 2000)\n",
    "list11 = np.random.randint(0,10000, 5000)\n",
    "list12 = np.random.randint(0,10000, 10000)\n",
    "\n",
    "output_times_Tim_6000 = []\n",
    "output_times_Tim_6000.append(timeit.timeit('Tim_Sort_6000(list1)', 'from __main__ import Tim_Sort_6000, list1', number=100))\n",
    "output_times_Tim_6000.append(timeit.timeit('Tim_Sort_6000(list2)', 'from __main__ import Tim_Sort_6000, list2', number=100))\n",
    "output_times_Tim_6000.append(timeit.timeit('Tim_Sort_6000(list3)', 'from __main__ import Tim_Sort_6000, list3', number=100))\n",
    "output_times_Tim_6000.append(timeit.timeit('Tim_Sort_6000(list4)', 'from __main__ import Tim_Sort_6000, list4', number=100))\n",
    "output_times_Tim_6000.append(timeit.timeit('Tim_Sort_6000(list5)', 'from __main__ import Tim_Sort_6000, list5', number=100))\n",
    "output_times_Tim_6000.append(timeit.timeit('Tim_Sort_6000(list6)', 'from __main__ import Tim_Sort_6000, list6', number=100))\n",
    "output_times_Tim_6000.append(timeit.timeit('Tim_Sort_6000(list7)', 'from __main__ import Tim_Sort_6000, list7', number=100))\n",
    "output_times_Tim_6000.append(timeit.timeit('Tim_Sort_6000(list8)', 'from __main__ import Tim_Sort_6000, list8', number=100))\n",
    "output_times_Tim_6000.append(timeit.timeit('Tim_Sort_6000(list9)', 'from __main__ import Tim_Sort_6000, list9', number=100))\n",
    "output_times_Tim_6000.append(timeit.timeit('Tim_Sort_6000(list10)', 'from __main__ import Tim_Sort_6000, list10', number=100))\n",
    "output_times_Tim_6000.append(timeit.timeit('Tim_Sort_6000(list11)', 'from __main__ import Tim_Sort_6000, list11', number=100))\n",
    "output_times_Tim_6000.append(timeit.timeit('Tim_Sort_6000(list12)', 'from __main__ import Tim_Sort_6000, list12', number=100))\n",
    "\n",
    "print(output_times_Tim_6000)"
   ]
  },
  {
   "cell_type": "code",
   "execution_count": 108,
   "metadata": {},
   "outputs": [],
   "source": [
    "#My implementation of Tim sort for k=5500\n",
    "def Tim_Sort_3000(arr):\n",
    "    if len(arr) > 3000:\n",
    " \n",
    "         # Finding the mid of the array\n",
    "        mid = len(arr)//2\n",
    " \n",
    "        # Dividing the array elements\n",
    "        L = arr[:mid]\n",
    " \n",
    "        # into 2 halves\n",
    "        R = arr[mid:]\n",
    " \n",
    "        # Sorting the first half\n",
    "        Tim_Sort_3000(L)\n",
    " \n",
    "        # Sorting the second half\n",
    "        Tim_Sort_3000(R)\n",
    " \n",
    "        i = j = k = 0\n",
    " \n",
    "        # Copy data to temp arrays L[] and R[]\n",
    "        while i < len(L) and j < len(R):\n",
    "            if L[i] <= R[j]:\n",
    "                arr[k] = L[i]\n",
    "                i += 1\n",
    "            else:\n",
    "                arr[k] = R[j]\n",
    "                j += 1\n",
    "            k += 1\n",
    " \n",
    "        # Checking if any element was left\n",
    "        while i < len(L):\n",
    "            arr[k] = L[i]\n",
    "            i += 1\n",
    "            k += 1\n",
    " \n",
    "        while j < len(R):\n",
    "            arr[k] = R[j]\n",
    "            j += 1\n",
    "            k += 1\n",
    "    else:\n",
    "        insertionSort(arr)"
   ]
  },
  {
   "cell_type": "code",
   "execution_count": 109,
   "metadata": {},
   "outputs": [
    {
     "name": "stdout",
     "output_type": "stream",
     "text": [
      "[0.0008032000005187001, 0.0012420000002748566, 0.0018383999995421618, 0.0020268999996915227, 0.0024067000013019424, 0.006622400000196649, 0.021837500000401633, 0.05274180000014894, 0.14995619999899645, 0.5251023999990139, 2.0168585999999777, 4.487803400001212]\n"
     ]
    }
   ],
   "source": [
    "#TIM SORT 3000\n",
    "list1 = np.random.randint(0,10000, 10)\n",
    "list2 = np.random.randint(0,10000, 15)\n",
    "list3 = np.random.randint(0,10000, 20)\n",
    "list4 = np.random.randint(0,10000, 30)\n",
    "list5 = np.random.randint(0,10000, 50)\n",
    "list6 = np.random.randint(0,10000, 100)\n",
    "list7 = np.random.randint(0,10000, 200)\n",
    "list8 = np.random.randint(0,10000, 500)\n",
    "list9 = np.random.randint(0,10000, 1000)\n",
    "list10 = np.random.randint(0,10000, 2000)\n",
    "list11 = np.random.randint(0,10000, 5000)\n",
    "list12 = np.random.randint(0,10000, 10000)\n",
    "\n",
    "output_times_Tim_3000 = []\n",
    "output_times_Tim_3000.append(timeit.timeit('Tim_Sort_3000(list1)', 'from __main__ import Tim_Sort_3000, list1', number=100))\n",
    "output_times_Tim_3000.append(timeit.timeit('Tim_Sort_3000(list2)', 'from __main__ import Tim_Sort_3000, list2', number=100))\n",
    "output_times_Tim_3000.append(timeit.timeit('Tim_Sort_3000(list3)', 'from __main__ import Tim_Sort_3000, list3', number=100))\n",
    "output_times_Tim_3000.append(timeit.timeit('Tim_Sort_3000(list4)', 'from __main__ import Tim_Sort_3000, list4', number=100))\n",
    "output_times_Tim_3000.append(timeit.timeit('Tim_Sort_3000(list5)', 'from __main__ import Tim_Sort_3000, list5', number=100))\n",
    "output_times_Tim_3000.append(timeit.timeit('Tim_Sort_3000(list6)', 'from __main__ import Tim_Sort_3000, list6', number=100))\n",
    "output_times_Tim_3000.append(timeit.timeit('Tim_Sort_3000(list7)', 'from __main__ import Tim_Sort_3000, list7', number=100))\n",
    "output_times_Tim_3000.append(timeit.timeit('Tim_Sort_3000(list8)', 'from __main__ import Tim_Sort_3000, list8', number=100))\n",
    "output_times_Tim_3000.append(timeit.timeit('Tim_Sort_3000(list9)', 'from __main__ import Tim_Sort_3000, list9', number=100))\n",
    "output_times_Tim_3000.append(timeit.timeit('Tim_Sort_3000(list10)', 'from __main__ import Tim_Sort_3000, list10', number=100))\n",
    "output_times_Tim_3000.append(timeit.timeit('Tim_Sort_3000(list11)', 'from __main__ import Tim_Sort_3000, list11', number=100))\n",
    "output_times_Tim_3000.append(timeit.timeit('Tim_Sort_3000(list12)', 'from __main__ import Tim_Sort_3000, list12', number=100))\n",
    "\n",
    "print(output_times_Tim_3000)"
   ]
  },
  {
   "cell_type": "code",
   "execution_count": 111,
   "metadata": {},
   "outputs": [
    {
     "data": {
      "image/png": "[encoded data removed]",
      "text/plain": [
       "<Figure size 432x288 with 1 Axes>"
      ]
     },
     "metadata": {
      "needs_background": "light"
     },
     "output_type": "display_data"
    }
   ],
   "source": [
    "plt.plot(times, output_times_Tim_5000, 'y', label = 'k=5000')\n",
    "plt.plot(times, output_times_Tim_5500, 'r', label = 'k=5500')\n",
    "plt.plot(times, output_times_Tim_4000, 'g', label = 'k=4000')\n",
    "plt.plot(times, output_times_Tim_3000, 'black', label = 'k=3000')\n",
    "plt.plot(times, output_times_Tim_6000, 'b', label = 'k=6000')\n",
    "plt.title(\"Tim Sort Execution Times for Varing K\")\n",
    "plt.xlabel(\"N\")\n",
    "plt.ylabel(\"Execution Time\")\n",
    "plt.legend()\n",
    "plt.grid()"
   ]
  },
  {
   "cell_type": "code",
   "execution_count": null,
   "metadata": {},
   "outputs": [],
   "source": []
  }
 ],
 "metadata": {
  "kernelspec": {
   "display_name": "Python 3",
   "language": "python",
   "name": "python3"
  },
  "language_info": {
   "codemirror_mode": {
    "name": "ipython",
    "version": 3
   },
   "file_extension": ".py",
   "mimetype": "text/x-python",
   "name": "python",
   "nbconvert_exporter": "python",
   "pygments_lexer": "ipython3",
   "version": "3.8.3"
  }
 },
 "nbformat": 4,
 "nbformat_minor": 4
}
